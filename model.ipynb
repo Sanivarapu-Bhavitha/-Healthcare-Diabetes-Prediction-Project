{
 "cells": [
  {
   "cell_type": "code",
   "execution_count": 15,
   "id": "30fdf646-fc52-4a02-bc7a-08d3a64c63c7",
   "metadata": {},
   "outputs": [
    {
     "data": {
      "text/plain": [
       "Index(['race', 'gender', 'age', 'weight', 'admission_type_id',\n",
       "       'discharge_disposition_id', 'admission_source_id', 'time_in_hospital',\n",
       "       'payer_code', 'medical_specialty', 'num_lab_procedures',\n",
       "       'num_procedures', 'num_medications', 'number_outpatient',\n",
       "       'number_emergency', 'number_inpatient', 'diag_1', 'diag_2', 'diag_3',\n",
       "       'number_diagnoses', 'max_glu_serum', 'A1Cresult', 'metformin',\n",
       "       'repaglinide', 'nateglinide', 'chlorpropamide', 'glimepiride',\n",
       "       'acetohexamide', 'glipizide', 'glyburide', 'tolbutamide',\n",
       "       'pioglitazone', 'rosiglitazone', 'acarbose', 'miglitol', 'troglitazone',\n",
       "       'tolazamide', 'examide', 'citoglipton', 'insulin',\n",
       "       'glyburide-metformin', 'glipizide-metformin',\n",
       "       'glimepiride-pioglitazone', 'metformin-rosiglitazone',\n",
       "       'metformin-pioglitazone', 'change', 'diabetesMed', 'readmitted'],\n",
       "      dtype='object')"
      ]
     },
     "execution_count": 15,
     "metadata": {},
     "output_type": "execute_result"
    }
   ],
   "source": [
    "df.columns"
   ]
  },
  {
   "cell_type": "code",
   "execution_count": 17,
   "id": "74c95819-c83a-499b-977e-c6625df2e2e1",
   "metadata": {},
   "outputs": [
    {
     "data": {
      "text/plain": [
       "['race',\n",
       " 'gender',\n",
       " 'age',\n",
       " 'weight',\n",
       " 'admission_type_id',\n",
       " 'discharge_disposition_id',\n",
       " 'admission_source_id',\n",
       " 'time_in_hospital',\n",
       " 'payer_code',\n",
       " 'medical_specialty',\n",
       " 'num_lab_procedures',\n",
       " 'num_procedures',\n",
       " 'num_medications',\n",
       " 'number_outpatient',\n",
       " 'number_emergency',\n",
       " 'number_inpatient',\n",
       " 'diag_1',\n",
       " 'diag_2',\n",
       " 'diag_3',\n",
       " 'number_diagnoses',\n",
       " 'max_glu_serum',\n",
       " 'A1Cresult',\n",
       " 'metformin',\n",
       " 'repaglinide',\n",
       " 'nateglinide',\n",
       " 'chlorpropamide',\n",
       " 'glimepiride',\n",
       " 'acetohexamide',\n",
       " 'glipizide',\n",
       " 'glyburide',\n",
       " 'tolbutamide',\n",
       " 'pioglitazone',\n",
       " 'rosiglitazone',\n",
       " 'acarbose',\n",
       " 'miglitol',\n",
       " 'troglitazone',\n",
       " 'tolazamide',\n",
       " 'examide',\n",
       " 'citoglipton',\n",
       " 'insulin',\n",
       " 'glyburide-metformin',\n",
       " 'glipizide-metformin',\n",
       " 'glimepiride-pioglitazone',\n",
       " 'metformin-rosiglitazone',\n",
       " 'metformin-pioglitazone',\n",
       " 'change',\n",
       " 'diabetesMed',\n",
       " 'readmitted']"
      ]
     },
     "execution_count": 17,
     "metadata": {},
     "output_type": "execute_result"
    }
   ],
   "source": [
    "df.columns.tolist()\n"
   ]
  },
  {
   "cell_type": "code",
   "execution_count": 23,
   "id": "101d7cab-ff23-4d71-8d58-348f5157c9e5",
   "metadata": {},
   "outputs": [],
   "source": [
    "df.replace('?', pd.NA, inplace=True)\n",
    "df.dropna(inplace=True)\n"
   ]
  },
  {
   "cell_type": "code",
   "execution_count": 25,
   "id": "09cd4d8e-7bd1-411e-9714-27631c2e7dce",
   "metadata": {},
   "outputs": [
    {
     "name": "stdout",
     "output_type": "stream",
     "text": [
      "✅ Model trained and saved successfully!\n"
     ]
    }
   ],
   "source": [
    "import pandas as pd\n",
    "from sklearn.model_selection import train_test_split\n",
    "from sklearn.ensemble import RandomForestClassifier\n",
    "import joblib\n",
    "\n",
    "# Step 1: Load dataset\n",
    "df = pd.read_csv(\"diabetic_data.csv\")\n",
    "\n",
    "# Step 2: Drop irrelevant columns\n",
    "df.drop(['encounter_id', 'patient_nbr'], axis=1, inplace=True)\n",
    "\n",
    "# Step 3: Replace '?' with NaN\n",
    "df.replace('?', pd.NA, inplace=True)\n",
    "\n",
    "# ✅ Step 4: Drop rows with missing values only from important columns\n",
    "df.dropna(subset=['race', 'gender', 'age', 'readmitted'], inplace=True)\n",
    "\n",
    "# ✅ Step 5: Convert readmitted to binary\n",
    "df['readmitted'] = df['readmitted'].apply(lambda x: 0 if x == 'NO' else 1)\n",
    "\n",
    "# Step 6: Split target before one-hot encoding\n",
    "y = df['readmitted']\n",
    "X = df.drop('readmitted', axis=1)\n",
    "\n",
    "# Step 7: Encode categorical variables\n",
    "X = pd.get_dummies(X)\n",
    "\n",
    "# Step 8: Align X and y\n",
    "X, y = X.align(y, join='inner', axis=0)\n",
    "\n",
    "# Step 9: Train/test split\n",
    "X_train, X_test, y_train, y_test = train_test_split(X, y, test_size=0.2, random_state=42)\n",
    "\n",
    "# Step 10: Train the model\n",
    "model = RandomForestClassifier(n_estimators=100, random_state=42)\n",
    "model.fit(X_train, y_train)\n",
    "\n",
    "# Step 11: Save the model\n",
    "joblib.dump(model, 'diabetes_model.pkl')\n",
    "\n",
    "print(\"✅ Model trained and saved successfully!\")\n"
   ]
  },
  {
   "cell_type": "code",
   "execution_count": 4,
   "id": "09cdd19c-6336-496a-993b-a433538cced1",
   "metadata": {},
   "outputs": [
    {
     "name": "stdout",
     "output_type": "stream",
     "text": [
      "Model trained and saved with compression ✅\n"
     ]
    }
   ],
   "source": [
    "import pandas as pd\n",
    "from sklearn.model_selection import train_test_split\n",
    "from sklearn.ensemble import RandomForestClassifier\n",
    "import joblib\n",
    "\n",
    "# Load your dataset\n",
    "df = pd.read_csv(\"diabetic_data.csv\")\n",
    "\n",
    "# Drop rows with missing target and fill other NaNs\n",
    "df = df.dropna(subset=[\"readmitted\"])  # Or replace \"readmitted\" with your actual target\n",
    "df = df.fillna(\"missing\")  # Fill missing values with string\n",
    "\n",
    "# Convert target to binary (optional, adjust as needed)\n",
    "df[\"readmitted\"] = df[\"readmitted\"].apply(lambda x: 1 if x == \"<30\" else 0)\n",
    "\n",
    "# Select numeric or preprocessed features only (simplified)\n",
    "X = pd.get_dummies(df.drop(\"readmitted\", axis=1))\n",
    "y = df[\"readmitted\"]\n",
    "\n",
    "# Keep columns manageable\n",
    "X = X.select_dtypes(include=[\"number\"]).copy()\n",
    "\n",
    "# Train-test split\n",
    "X_train, X_test, y_train, y_test = train_test_split(X, y, test_size=0.2, random_state=42)\n",
    "\n",
    "# Train model\n",
    "model = RandomForestClassifier()\n",
    "model.fit(X_train, y_train)\n",
    "\n",
    "# ✅ Compress and save\n",
    "joblib.dump(model, \"diabetes_model.pkl\", compress=3)\n",
    "\n",
    "print(\"Model trained and saved with compression ✅\")\n"
   ]
  }
 ],
 "metadata": {
  "kernelspec": {
   "display_name": "Python 3 (ipykernel)",
   "language": "python",
   "name": "python3"
  },
  "language_info": {
   "codemirror_mode": {
    "name": "ipython",
    "version": 3
   },
   "file_extension": ".py",
   "mimetype": "text/x-python",
   "name": "python",
   "nbconvert_exporter": "python",
   "pygments_lexer": "ipython3",
   "version": "3.12.4"
  }
 },
 "nbformat": 4,
 "nbformat_minor": 5
}
